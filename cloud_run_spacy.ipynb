{
  "nbformat": 4,
  "nbformat_minor": 0,
  "metadata": {
    "colab": {
      "provenance": [],
      "authorship_tag": "ABX9TyMqb+jEW40YmGWg+k2MsyFz",
      "include_colab_link": true
    },
    "kernelspec": {
      "name": "python3",
      "display_name": "Python 3"
    },
    "language_info": {
      "name": "python"
    }
  },
  "cells": [
    {
      "cell_type": "markdown",
      "metadata": {
        "id": "view-in-github",
        "colab_type": "text"
      },
      "source": [
        "<a href=\"https://colab.research.google.com/github/rastringer/vertex-ai-examples/blob/main/cloud_run_spacy.ipynb\" target=\"_parent\"><img src=\"https://colab.research.google.com/assets/colab-badge.svg\" alt=\"Open In Colab\"/></a>"
      ]
    },
    {
      "cell_type": "code",
      "execution_count": null,
      "metadata": {
        "id": "ZW4J8DY-HTuw"
      },
      "outputs": [],
      "source": []
    },
    {
      "cell_type": "markdown",
      "source": [
        "# Deploying NLP apps on Cloud Run\n",
        "\n",
        "Cloud Run is a fully managed serverless platform on Google Cloud Platform (GCP) that lets you run containers without having to worry about managing servers or infrastructure. It's designed for modern, microservices-based applications that need to scale automatically and efficiently.\n",
        "\n",
        "In this brief tutorial, we will make a simple web app that loads the spaCy library and performs entity recognition on submitted text files and URLs."
      ],
      "metadata": {
        "id": "d5AXo9NPHi76"
      }
    },
    {
      "cell_type": "code",
      "source": [
        "!mkdir spacy && cd spacy"
      ],
      "metadata": {
        "id": "5qKIkk8QHkrH"
      },
      "execution_count": 1,
      "outputs": []
    },
    {
      "cell_type": "code",
      "source": [
        "%%writefile spacy/main.py\n",
        "\n",
        "import os\n",
        "import sys\n",
        "from flask import Flask, render_template, request\n",
        "import spacy\n",
        "import requests\n",
        "from bs4 import BeautifulSoup\n",
        "\n",
        "# Create the Flask app at the module level\n",
        "app = Flask(__name__)\n",
        "\n",
        "# Load spaCy model once when the application starts\n",
        "print(\"Loading spaCy model...\")\n",
        "try:\n",
        "    nlp = spacy.load(\"en_core_web_lg\")\n",
        "    print(\"spaCy model loaded successfully.\")\n",
        "except OSError as e:\n",
        "    print(f\"Error loading spaCy model: {e}\", file=sys.stderr)\n",
        "    print(\"Python executable:\", sys.executable, file=sys.stderr)\n",
        "    print(\"Python version:\", sys.version, file=sys.stderr)\n",
        "    print(\"spaCy version:\", spacy.__version__, file=sys.stderr)\n",
        "    print(\"Current working directory:\", os.getcwd(), file=sys.stderr)\n",
        "    print(\"Contents of current directory:\", os.listdir(), file=sys.stderr)\n",
        "    raise\n",
        "\n",
        "@app.route(\"/\", methods=[\"GET\", \"POST\"])\n",
        "def index():\n",
        "    if request.method == \"POST\":\n",
        "        input_type = request.form[\"input_type\"]\n",
        "        input_data = request.form[\"input_data\"]\n",
        "\n",
        "        if input_type == \"file\":\n",
        "            # Process uploaded file\n",
        "            file = request.files[\"file\"]\n",
        "            if file:\n",
        "                text = file.read().decode(\"utf-8\")\n",
        "            else:\n",
        "                return \"No file uploaded\", 400\n",
        "        elif input_type == \"url\":\n",
        "            # Fetch and process web page content\n",
        "            response = requests.get(input_data)\n",
        "            soup = BeautifulSoup(response.content, \"html.parser\")\n",
        "            text = soup.get_text()\n",
        "        else:\n",
        "            return \"Invalid input type\", 400\n",
        "\n",
        "        # Count characters\n",
        "        char_count = len(text)\n",
        "\n",
        "        # Perform NER\n",
        "        doc = nlp(text)\n",
        "        entities = [(ent.text, ent.label_) for ent in doc.ents]\n",
        "\n",
        "        return render_template(\"results.html\", entities=entities, char_count=char_count)\n",
        "\n",
        "    return render_template(\"index.html\")\n",
        "\n",
        "# This block is now outside the if __name__ == \"__main__\" check\n",
        "port = int(os.environ.get(\"PORT\", 8080))\n",
        "\n",
        "if __name__ == \"__main__\":\n",
        "    app.run(debug=True, host=\"0.0.0.0\", port=port)"
      ],
      "metadata": {
        "colab": {
          "base_uri": "https://localhost:8080/"
        },
        "id": "kMhxX7lcI5Pd",
        "outputId": "4b463785-7373-437b-a735-c6e4a5d83a45"
      },
      "execution_count": 2,
      "outputs": [
        {
          "output_type": "stream",
          "name": "stdout",
          "text": [
            "Writing main.py\n"
          ]
        }
      ]
    },
    {
      "cell_type": "code",
      "source": [
        "!mkdir templates && cd templates"
      ],
      "metadata": {
        "id": "B2BzZrlpJEB3"
      },
      "execution_count": 3,
      "outputs": []
    },
    {
      "cell_type": "code",
      "source": [
        "%%writefile spacy/templates/index.html\n",
        "\n",
        "<!DOCTYPE html>\n",
        "<html lang=\"en\">\n",
        "<head>\n",
        "    <meta charset=\"UTF-8\">\n",
        "    <meta name=\"viewport\" content=\"width=device-width, initial-scale=1.0\">\n",
        "    <title>NER App</title>\n",
        "    <link href=\"https://cdn.jsdelivr.net/npm/bootstrap@5.1.3/dist/css/bootstrap.min.css\" rel=\"stylesheet\">\n",
        "</head>\n",
        "<body>\n",
        "    <div class=\"container mt-5\">\n",
        "        <h1 class=\"mb-4\">Named Entity Recognition</h1>\n",
        "        <form method=\"POST\" enctype=\"multipart/form-data\">\n",
        "            <div class=\"mb-3\">\n",
        "                <div class=\"form-check form-check-inline\">\n",
        "                    <input class=\"form-check-input\" type=\"radio\" name=\"input_type\" id=\"file_radio\" value=\"file\" checked>\n",
        "                    <label class=\"form-check-label\" for=\"file_radio\">Upload File</label>\n",
        "                </div>\n",
        "                <div class=\"form-check form-check-inline\">\n",
        "                    <input class=\"form-check-input\" type=\"radio\" name=\"input_type\" id=\"url_radio\" value=\"url\">\n",
        "                    <label class=\"form-check-label\" for=\"url_radio\">Enter URL</label>\n",
        "                </div>\n",
        "            </div>\n",
        "            <div class=\"mb-3\">\n",
        "                <input type=\"file\" class=\"form-control\" name=\"file\" id=\"file\">\n",
        "                <input type=\"text\" class=\"form-control\" name=\"input_data\" id=\"url\" placeholder=\"Enter URL\" style=\"display: none;\">\n",
        "            </div>\n",
        "            <button type=\"submit\" class=\"btn btn-primary\">Process</button>\n",
        "        </form>\n",
        "    </div>\n",
        "\n",
        "    <script src=\"https://cdn.jsdelivr.net/npm/bootstrap@5.1.3/dist/js/bootstrap.bundle.min.js\"></script>\n",
        "    <script>\n",
        "        document.querySelectorAll('input[name=\"input_type\"]').forEach((elem) => {\n",
        "            elem.addEventListener(\"change\", function(event) {\n",
        "                var file = document.getElementById(\"file\");\n",
        "                var url = document.getElementById(\"url\");\n",
        "                if (event.target.value === \"file\") {\n",
        "                    file.style.display = \"block\";\n",
        "                    url.style.display = \"none\";\n",
        "                } else {\n",
        "                    file.style.display = \"none\";\n",
        "                    url.style.display = \"block\";\n",
        "                }\n",
        "            });\n",
        "        });\n",
        "    </script>\n",
        "</body>\n",
        "</html>"
      ],
      "metadata": {
        "colab": {
          "base_uri": "https://localhost:8080/"
        },
        "id": "RiGp1-61JGOY",
        "outputId": "6decefa0-a2e7-44b8-aa88-7b6e963fe74f"
      },
      "execution_count": 10,
      "outputs": [
        {
          "output_type": "stream",
          "name": "stdout",
          "text": [
            "Writing spacy/templates/index.html\n"
          ]
        }
      ]
    },
    {
      "cell_type": "code",
      "source": [
        "%%writefile templates/results.html\n",
        "\n",
        "<!DOCTYPE html>\n",
        "<html lang=\"en\">\n",
        "<head>\n",
        "    <meta charset=\"UTF-8\">\n",
        "    <meta name=\"viewport\" content=\"width=device-width, initial-scale=1.0\">\n",
        "    <title>NER Results</title>\n",
        "    <link href=\"https://cdn.jsdelivr.net/npm/bootstrap@5.1.3/dist/css/bootstrap.min.css\" rel=\"stylesheet\">\n",
        "</head>\n",
        "<body>\n",
        "    <div class=\"container mt-5\">\n",
        "        <h1 class=\"mb-4\">Named Entity Recognition Results</h1>\n",
        "        <div class=\"alert alert-info\" role=\"alert\">\n",
        "            Text contains <strong>{{ char_count }}</strong> characters.\n",
        "        </div>\n",
        "        <div class=\"table-responsive\">\n",
        "            <table class=\"table table-striped table-hover\">\n",
        "                <thead>\n",
        "                    <tr>\n",
        "                        <th>Entity</th>\n",
        "                        <th>Label</th>\n",
        "                    </tr>\n",
        "                </thead>\n",
        "                <tbody>\n",
        "                    {% for entity, label in entities %}\n",
        "                    <tr>\n",
        "                        <td>{{ entity }}</td>\n",
        "                        <td><span class=\"badge bg-primary\">{{ label }}</span></td>\n",
        "                    </tr>\n",
        "                    {% endfor %}\n",
        "                </tbody>\n",
        "            </table>\n",
        "        </div>\n",
        "        <a href=\"/\" class=\"btn btn-primary mt-3\">Back to Home</a>\n",
        "    </div>\n",
        "    <script src=\"https://cdn.jsdelivr.net/npm/bootstrap@5.1.3/dist/js/bootstrap.bundle.min.js\"></script>\n",
        "</body>\n",
        "</html>"
      ],
      "metadata": {
        "colab": {
          "base_uri": "https://localhost:8080/"
        },
        "id": "5x7rvFR6JMhY",
        "outputId": "949fb423-2df9-459a-c313-c61af02d2404"
      },
      "execution_count": 7,
      "outputs": [
        {
          "output_type": "stream",
          "name": "stdout",
          "text": [
            "Writing templates/results.html\n"
          ]
        }
      ]
    },
    {
      "cell_type": "code",
      "source": [
        "%%writefile Dockerfile\n",
        "\n",
        "# Use the official lightweight Python image.\n",
        "FROM python:3.9-slim\n",
        "\n",
        "# Allow statements and log messages to immediately appear in the logs\n",
        "ENV PYTHONUNBUFFERED True\n",
        "\n",
        "# Copy local code to the container image.\n",
        "ENV APP_HOME /app\n",
        "WORKDIR $APP_HOME\n",
        "COPY . ./\n",
        "\n",
        "# Install production dependencies.\n",
        "RUN pip install --no-cache-dir -r requirements.txt\n",
        "\n",
        "# Download spaCy model during build\n",
        "RUN python -m spacy download en_core_web_lg\n",
        "\n",
        "# Run the web service on container startup. Here we use the gunicorn\n",
        "# webserver, with one worker process and 8 threads.\n",
        "# For environments with multiple CPU cores, increase the number of workers\n",
        "# to be equal to the cores available.\n",
        "CMD exec gunicorn --bind :$PORT --workers 1 --threads 8 --timeout 0 main:app"
      ],
      "metadata": {
        "colab": {
          "base_uri": "https://localhost:8080/"
        },
        "id": "912kMLDKJP_Q",
        "outputId": "3c72bf8d-1679-4313-9c40-71f90108b8ff"
      },
      "execution_count": 8,
      "outputs": [
        {
          "output_type": "stream",
          "name": "stdout",
          "text": [
            "/bin/bash: line 1: cd: too many arguments\n"
          ]
        }
      ]
    },
    {
      "cell_type": "code",
      "source": [
        "%%writefile spacy/requirements.txt\n",
        "\n",
        "Flask==3.0.3\n",
        "spacy==3.7.6\n",
        "requests==2.32.3\n",
        "beautifulsoup4==4.12.3\n",
        "gunicorn==23.0.0"
      ],
      "metadata": {
        "colab": {
          "base_uri": "https://localhost:8080/"
        },
        "id": "N95hwOFuKdsB",
        "outputId": "4ba054a9-413e-4700-dc72-cba069a4f73c"
      },
      "execution_count": 11,
      "outputs": [
        {
          "output_type": "stream",
          "name": "stdout",
          "text": [
            "Writing spacy/requirements.txt\n"
          ]
        }
      ]
    },
    {
      "cell_type": "markdown",
      "source": [
        "### The Cloud Run part\n",
        "\n",
        "With the Google Cloud SDK installed, run\n",
        "\n",
        "```\n",
        "gcloud init\n",
        "```\n",
        "\n",
        "then set your project with billing enabled:\n",
        "\n",
        "```\n",
        "gcloud config set project <your project id>\n",
        "```\n",
        "\n",
        "Enable the necessary IAM permissions either for your admin account or a service account (service account example here):\n",
        "\n",
        "```\n",
        "gcloud projects add-iam-policy-binding PROJECT_ID \\\n",
        "    --member=serviceAccount: PROJECT_ID-compute@developer.gserviceaccount.com \\\n",
        "    --role=roles/cloudbuild.builds.builder\n",
        "```\n",
        "\n",
        "Now the simple command:\n",
        "\n",
        "```\n",
        "gcloud run deploy\n",
        "```\n",
        "\n",
        "Will build the container and deploy the service.\n",
        "Head to the Cloud Run [console](https://console.cloud.google.com/run/) to look at customization and scale options.\n",
        "\n"
      ],
      "metadata": {
        "id": "JBAeTBK_J47h"
      }
    },
    {
      "cell_type": "code",
      "source": [],
      "metadata": {
        "id": "ZVJjd88GJRo3"
      },
      "execution_count": null,
      "outputs": []
    }
  ]
}